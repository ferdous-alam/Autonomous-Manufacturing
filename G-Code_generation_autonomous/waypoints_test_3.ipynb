{
 "cells": [
  {
   "cell_type": "code",
   "execution_count": 40,
   "id": "1a9e24d9",
   "metadata": {},
   "outputs": [],
   "source": [
    "# import libraries\n",
    "import numpy as np\n",
    "import matplotlib.pyplot as plt\n",
    "\n",
    "# plot waypoints\n",
    "def plot_waypoints(waypoints):\n",
    "    # ----------- plot figure --------------- \n",
    "    plt.figure(figsize=(8, 8))\n",
    "    for i in range(len(waypoints) - 1):\n",
    "        point1 = [waypoints[i][0], waypoints[i+1][0]]\n",
    "        point2 = [waypoints[i][1], waypoints[i+1][1]]\n",
    "        plt.plot(point1, point2, '-o', lw=2.0, color='blue')\n",
    "\n",
    "#     for i in range(100):\n",
    "#         x_o = np.linspace(0, 34, 100)\n",
    "#         y_o = i*wv - (wv/wh)*x_o\n",
    "#         plt.plot(x_o, y_o, '--', color='black', alpha=0.25)\n",
    "    \n",
    "        \n",
    "#     plt.hlines(0, 0, L, lw = 3.0, color='red')\n",
    "#     plt.vlines(0, 0, W, lw = 3.0, color='red')\n",
    "#     plt.hlines(L, 0, L, lw = 3.0, color='red')\n",
    "#     plt.vlines(W, 0, W, lw = 3.0, color='red')\n",
    "\n",
    "    x = [i for i in range(35)]\n",
    "    plt.xticks(x, x)\n",
    "    x = [i for i in range(35)]\n",
    "    plt.yticks(x, x)\n",
    "    \n",
    "    plt.xlim([-1, L+1])\n",
    "    plt.ylim([-1, W+1])\n",
    "    \n",
    "    plt.show()\n",
    "    \n",
    "\n",
    "def gen_waypoints_1(waypoints, i, wh, wv, L, W):\n",
    "\n",
    "    h_val = ((i * wv) - W) / np.tan(theta_rad)\n",
    "    v_val = ((i * wh) - L) * np.tan(theta_rad)\n",
    "    if i % 2 != 0:\n",
    "        waypoints.append([min(i * wh, L), 0])\n",
    "        if wv > W and wh <= L:\n",
    "            waypoints.append([h_val, min(i * wv, W)])\n",
    "        elif wv <= W and wh > L: \n",
    "            waypoints.append([L, v_val])\n",
    "    else:\n",
    "        waypoints.append([0, min(i * wv, W)])\n",
    "        waypoints.append([min(i * wh, L), 0])\n",
    "\n",
    "        \n",
    "def gen_waypoints_2(waypoints, i, wh, wv, L, W, idx_h, ph):\n",
    "    if i % 2 == 0:\n",
    "        waypoints.append([ph + idx_h * wh, W])\n",
    "        waypoints.append([i * wh, 0])\n",
    "    else:\n",
    "        waypoints.append([i * wh, 0])\n",
    "        waypoints.append([ph + idx_h * wh, W])\n",
    "\n",
    "\n",
    "def gen_waypoints_3(waypoints, i, wh, wv, L, W, idx_h, idx_v, ph, pv):\n",
    "    if i % 2 == 0:\n",
    "        waypoints.append([ph + idx_h * wh, i * wv])\n",
    "        waypoints.append([L, pv + idx_v * wv])\n",
    "    else:\n",
    "        waypoints.append([L, pv + idx_v * wv])\n",
    "        waypoints.append([ph + idx_h * wh, i * wv])\n",
    "\n",
    "\n",
    "def gen_waypoints_4(waypoints, i, wh, wv, L, W, idx_h, idx_v, ph, pv):\n",
    "    if i % 2 == 0:\n",
    "        waypoints.append([ph + idx_h * wh, W])\n",
    "        waypoints.append([L, pv + idx_v * wv])\n",
    "    else:\n",
    "        waypoints.append([L, pv + idx_v * wv])\n",
    "        waypoints.append([ph + idx_h * wh, L])\n"
   ]
  },
  {
   "cell_type": "code",
   "execution_count": 41,
   "id": "60190484",
   "metadata": {},
   "outputs": [
    {
     "data": {
      "image/png": "[encoded data removed]",
      "text/plain": [
       "<Figure size 576x576 with 1 Axes>"
      ]
     },
     "metadata": {
      "needs_background": "light"
     },
     "output_type": "display_data"
    }
   ],
   "source": [
    "# -------------------------------------\n",
    "# input variables        \n",
    "lxy = 5.0  # PnC unit cell spacing (mm) \n",
    "theta = 3\n",
    "# PnC filament orintation (degrees)\n",
    "L = 34.0  # PnC length (mm)\n",
    "W = 34.0   # PnC width (mm)\n",
    "\n",
    "# calculate distance between first two waypoints\n",
    "theta_rad = theta * np.pi / 180\n",
    "wh = lxy / np.sin(theta_rad)\n",
    "wv = lxy / np.cos(theta_rad)\n",
    "# ---------------------------------\n",
    "waypoints = [[0.0, 0.0]]\n",
    "idx_h, idx_v = 0, 0\n",
    "horiz, vert = True, True\n",
    "horiz_new, vert_new = True, True\n",
    "ph, pv = 0, 0\n",
    "i = 1\n",
    "#     while horiz_new and vert_new:\n",
    "\n",
    "for t in range(20):    \n",
    "    if horiz and vert:\n",
    "        gen_waypoints_1(waypoints, i, wh, wv, L, W)\n",
    "        ph = max(((i + 1) * wv - W) / np.tan(theta_rad), 0)\n",
    "        pv = max(((i + 1) * wh - L) * np.tan(theta_rad), 0)\n",
    "        horiz = (i + 1) * wh <= L\n",
    "        vert = (i + 1) * wv <= W\n",
    "    \n",
    "    elif not vert and horiz:\n",
    "        if horiz_new and horiz:\n",
    "            gen_waypoints_2(waypoints, i, wh, wv, L, W, idx_h, ph)\n",
    "            idx_h += 1\n",
    "            pv = ((i + 1) * wh4 - L) * np.tan(theta_rad)\n",
    "            horiz_new = ph + idx_h * wh <= L\n",
    "            horiz = (i + 1) * wh <= L\n",
    "            vert_new = pv + idx_v * wv <= L\n",
    "\n",
    "    elif not horiz and vert:\n",
    "        if vert_new and vert:\n",
    "            gen_waypoints_3(waypoints, i, wh, wv, L, W, idx_h, idx_v, ph, pv)\n",
    "            idx_v += 1\n",
    "            vert = (i + 1) * wv <= W\n",
    "            vert_new = pv + idx_v * wv <= W\n",
    "            horiz_new = ph + idx_h * wh <= L\n",
    "            ph = max(((i + 1) * wv - W) / np.tan(theta_rad), 0)\n",
    "\n",
    "    elif not horiz and not vert:\n",
    "        if horiz_new and vert_new:\n",
    "            gen_waypoints_4(waypoints, i, wh, wv, L, W, idx_h, idx_v, ph, pv)\n",
    "            idx_v += 1\n",
    "            idx_h += 1\n",
    "            horiz_new = ph + idx_h * wh <= L\n",
    "            vert_new = pv + idx_v * wv <= L\n",
    "    i += 1\n",
    "    \n",
    "plot_waypoints(waypoints)"
   ]
  },
  {
   "cell_type": "code",
   "execution_count": 19,
   "id": "db61e946",
   "metadata": {},
   "outputs": [
    {
     "data": {
      "text/plain": [
       "True"
      ]
     },
     "execution_count": 19,
     "metadata": {},
     "output_type": "execute_result"
    }
   ],
   "source": [
    "vert"
   ]
  },
  {
   "cell_type": "code",
   "execution_count": null,
   "id": "47989e5a",
   "metadata": {},
   "outputs": [],
   "source": []
  },
  {
   "cell_type": "code",
   "execution_count": null,
   "id": "208946f6",
   "metadata": {},
   "outputs": [],
   "source": []
  },
  {
   "cell_type": "code",
   "execution_count": null,
   "id": "c33d6f8b",
   "metadata": {},
   "outputs": [],
   "source": []
  },
  {
   "cell_type": "code",
   "execution_count": null,
   "id": "34003aa8",
   "metadata": {},
   "outputs": [],
   "source": []
  }
 ],
 "metadata": {
  "kernelspec": {
   "display_name": "Python 3 (ipykernel)",
   "language": "python",
   "name": "python3"
  },
  "language_info": {
   "codemirror_mode": {
    "name": "ipython",
    "version": 3
   },
   "file_extension": ".py",
   "mimetype": "text/x-python",
   "name": "python",
   "nbconvert_exporter": "python",
   "pygments_lexer": "ipython3",
   "version": "3.8.12"
  }
 },
 "nbformat": 4,
 "nbformat_minor": 5
}
