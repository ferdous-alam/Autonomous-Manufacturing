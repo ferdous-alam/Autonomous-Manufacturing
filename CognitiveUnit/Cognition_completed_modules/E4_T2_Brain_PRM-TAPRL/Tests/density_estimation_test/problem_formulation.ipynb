{
 "cells": [
  {
   "cell_type": "code",
   "execution_count": 25,
   "id": "1259d915",
   "metadata": {},
   "outputs": [],
   "source": [
    "import matplotlib.pyplot as plt\n",
    "import numpy as np "
   ]
  },
  {
   "cell_type": "code",
   "execution_count": 76,
   "id": "3b494aa2",
   "metadata": {},
   "outputs": [],
   "source": [
    "R = np.array([1.0, 1.25, 1.5, 0.75, 4.5])  # rewards\n",
    "x = np.array([0, 1, 2, 3, 4])  # states"
   ]
  },
  {
   "cell_type": "code",
   "execution_count": 78,
   "id": "a078db5b",
   "metadata": {},
   "outputs": [
    {
     "data": {
      "image/png": "[encoded data removed]",
      "text/plain": [
       "<Figure size 576x432 with 1 Axes>"
      ]
     },
     "metadata": {
      "needs_background": "light"
     },
     "output_type": "display_data"
    }
   ],
   "source": [
    "fig,ax = plt.subplots(figsize=(8, 6))\n",
    "plt.rcParams['text.usetex'] = True\n",
    "plt.hist(R, bins=30)\n",
    "plt.xlabel(r'$R(\\mathbf{x})$', fontsize=24)\n",
    "plt.ylim([0, 2])\n",
    "plt.rcParams['axes.linewidth'] = 1.25 \n",
    "plt.xticks([1.0, 1.25, 1.5, 0.75, 3.5], fontsize=14)\n",
    "plt.yticks([0, 1, 2], fontsize=18)\n",
    "plt.show()\n",
    "fig.savefig(\"reward_hist.pdf\", bbox_inches='tight')"
   ]
  },
  {
   "cell_type": "code",
   "execution_count": null,
   "id": "9a68fa5a",
   "metadata": {},
   "outputs": [],
   "source": []
  },
  {
   "cell_type": "code",
   "execution_count": null,
   "id": "26d464db",
   "metadata": {},
   "outputs": [],
   "source": []
  }
 ],
 "metadata": {
  "kernelspec": {
   "display_name": "Python 3 (ipykernel)",
   "language": "python",
   "name": "python3"
  },
  "language_info": {
   "codemirror_mode": {
    "name": "ipython",
    "version": 3
   },
   "file_extension": ".py",
   "mimetype": "text/x-python",
   "name": "python",
   "nbconvert_exporter": "python",
   "pygments_lexer": "ipython3",
   "version": "3.8.12"
  }
 },
 "nbformat": 4,
 "nbformat_minor": 5
}
